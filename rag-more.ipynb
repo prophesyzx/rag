{
 "cells": [
  {
   "cell_type": "markdown",
   "id": "02776136",
   "metadata": {},
   "source": [
    "# 承接rag-pre的进阶操作\n",
    "\n",
    "**包括链和agent，实现历史对话**"
   ]
  },
  {
   "cell_type": "code",
   "execution_count": 3,
   "id": "c3780842",
   "metadata": {},
   "outputs": [],
   "source": [
    "import getpass\n",
    "import os\n",
    "\n",
    "os.environ[\"LANGSMITH_ENDPOINT\"] = \"https://api.smith.langchain.com\"\n",
    "os.environ[\"LANGSMITH_PROJECT_ID\"] = \"project-1\"\n",
    "os.environ[\"LANGSMITH_PROJECT_NAME\"] = \"example rag\"\n",
    "os.environ[\"LANGSMITH_TRACING\"] = \"true\"\n",
    "os.environ[\"LANGSMITH_API_KEY\"] = \"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\"\n",
    "\n",
    "from langchain_deepseek.chat_models import ChatDeepSeek  # 导入 DeepSeek 的聊天模型\n",
    "from langchain_huggingface import HuggingFaceEmbeddings # 导入 HuggingFace 的嵌入模型\n",
    "from langchain.chains import RetrievalQA # 导入检索问答链\n",
    "from langchain.prompts import PromptTemplate # 导入提示模板\n",
    "from langchain.chains import LLMChain # 导入 LLM 链\n",
    "from langchain.memory import ConversationBufferMemory # 导入对话缓冲区内存\n",
    "from langchain_chroma import Chroma # 导入 Chroma 向量存储\n",
    "\n",
    "\n",
    "deepseek_api_key = \"sk-fffbb9b8a78d436a91a4780356b67a93\"\n",
    "\n",
    "llm = ChatDeepSeek(model=\"deepseek-chat\", api_key = deepseek_api_key)\n",
    "\n",
    "embeddings = HuggingFaceEmbeddings(model_name=\"sentence-transformers/all-mpnet-base-v2\")\n",
    "\n",
    "vector_store = Chroma(\n",
    "    collection_name=\"example_collection\",\n",
    "    embedding_function=embeddings,\n",
    "    persist_directory=\"./chroma_langchain_db\",  # Where to save data locally, remove if not necessary\n",
    ")"
   ]
  }
 ],
 "metadata": {
  "kernelspec": {
   "display_name": "Python 3",
   "language": "python",
   "name": "python3"
  },
  "language_info": {
   "codemirror_mode": {
    "name": "ipython",
    "version": 3
   },
   "file_extension": ".py",
   "mimetype": "text/x-python",
   "name": "python",
   "nbconvert_exporter": "python",
   "pygments_lexer": "ipython3",
   "version": "3.9.21"
  }
 },
 "nbformat": 4,
 "nbformat_minor": 5
}
