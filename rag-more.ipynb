{
 "cells": [
  {
   "cell_type": "markdown",
   "id": "02776136",
   "metadata": {},
   "source": [
    "# 承接rag-pre的进阶操作\n",
    "\n",
    "**包括链和agent，实现历史对话**"
   ]
  },
  {
   "cell_type": "code",
   "execution_count": null,
   "id": "bbc61c32",
   "metadata": {},
   "outputs": [],
   "source": []
  }
 ],
 "metadata": {
  "language_info": {
   "name": "python"
  }
 },
 "nbformat": 4,
 "nbformat_minor": 5
}
