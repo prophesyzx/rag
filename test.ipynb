{
 "cells": [
  {
   "cell_type": "code",
   "execution_count": 1,
   "id": "d488e41b",
   "metadata": {},
   "outputs": [
    {
     "name": "stdout",
     "output_type": "stream",
     "text": [
      "你好！😊 我是DeepSeek Chat，很高兴见到你！有什么我可以帮助你的吗？无论是问题解答、学习辅导，还是闲聊，我都在这里为你服务！✨\n"
     ]
    }
   ],
   "source": [
    "from openai import OpenAI\n",
    "\n",
    "# 创建 API 客户端\n",
    "client = OpenAI(api_key=\"sk-fffbb9b8a78d436a91a4780356b67a93\", base_url=\"https://api.deepseek.com\")\n",
    "\n",
    "# 调用 deepseek-chat 模型\n",
    "response = client.chat.completions.create(\n",
    "    model=\"deepseek-chat\",\n",
    "    messages=[\n",
    "        {\"role\": \"system\", \"content\": \"You are a helpful assistant.\"},\n",
    "        {\"role\": \"user\", \"content\": \"你好，DeepSeek！\"},\n",
    "    ],\n",
    "    stream=False  # 设置为 True 可启用流式输出\n",
    ")\n",
    "\n",
    "# 输出响应内容\n",
    "print(response.choices[0].message.content)"
   ]
  }
 ],
 "metadata": {
  "kernelspec": {
   "display_name": "rag",
   "language": "python",
   "name": "python3"
  },
  "language_info": {
   "codemirror_mode": {
    "name": "ipython",
    "version": 3
   },
   "file_extension": ".py",
   "mimetype": "text/x-python",
   "name": "python",
   "nbconvert_exporter": "python",
   "pygments_lexer": "ipython3",
   "version": "3.9.21"
  }
 },
 "nbformat": 4,
 "nbformat_minor": 5
}
