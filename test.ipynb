{
 "cells": [
  {
   "cell_type": "code",
   "execution_count": null,
   "id": "d488e41b",
   "metadata": {},
   "outputs": [],
   "source": [
    "from openai import OpenAI\n",
    "\n",
    "# 创建 API 客户端\n",
    "client = OpenAI(api_key=\"sk-fffbb9b8a78d436a91a4780356b67a93\", base_url=\"https://api.deepseek.com\")\n",
    "\n",
    "# 调用 deepseek-chat 模型\n",
    "response = client.chat.completions.create(\n",
    "    model=\"deepseek-chat\",\n",
    "    messages=[\n",
    "        {\"role\": \"system\", \"content\": \"You are a helpful assistant.\"},\n",
    "        {\"role\": \"user\", \"content\": \"你好，DeepSeek！\"},\n",
    "    ],\n",
    "    stream=False  # 设置为 True 可启用流式输出\n",
    ")\n",
    "\n",
    "# 输出响应内容\n",
    "print(response.choices[0].message.content)"
   ]
  },
  {
   "cell_type": "code",
   "execution_count": null,
   "id": "16e48527",
   "metadata": {},
   "outputs": [],
   "source": [
    "\"\"\"# 创建嵌入模型实例 \n",
    "embeddings = HuggingFaceEmbeddings(model_name=\"sentence-transformers/all-MiniLM-L6-v2\") # 创建嵌入模型实例\n",
    "# 创建 Chroma 向量存储实例 \n",
    "vectordb = Chroma(persist_directory=\"chroma_db\", embedding_function=embeddings) # 创建 Chroma 向量存储实例\n",
    "# 创建检索器实例\n",
    "retriever = vectordb.as_retriever(search_kwargs={\"k\": 3}) # 创建检索器实例，设置返回的文档数量为3\n",
    "# 创建检索问答链实例\n",
    "qa = RetrievalQA.from_chain_type(llm=llm, chain_type=\"stuff\", retriever=retriever, return_source_documents=True) # 创建检索问答链实例，使用 DeepSeek 聊天模型和 Chroma 向量存储\n",
    "# 创建提示模板实例\n",
    "prompt_template = PromptTemplate(template=\"请根据以下内容回答问题：{context}\\n\\n问题：{question}\\n\\n回答：\", input_variables=[\"context\", \"question\"]) # 创建提示模板实例\n",
    "# 创建 LLM 链实例\n",
    "llm_chain = LLMChain(llm=llm, prompt=prompt_template, verbose=True) # 创建 LLM 链实例，使用 DeepSeek 聊天模型和提示模板\n",
    "# 创建对话缓冲区内存实例\n",
    "memory = ConversationBufferMemory(memory_key=\"chat_history\", return_messages=True) # 创建对话缓冲区内存实例，设置内存键为 \"chat_history\"\n",
    "# 创建对话链实例\"\"\""
   ]
  }
 ],
 "metadata": {
  "kernelspec": {
   "display_name": "Python 3",
   "language": "python",
   "name": "python3"
  },
  "language_info": {
   "codemirror_mode": {
    "name": "ipython",
    "version": 3
   },
   "file_extension": ".py",
   "mimetype": "text/x-python",
   "name": "python",
   "nbconvert_exporter": "python",
   "pygments_lexer": "ipython3",
   "version": "3.9.21"
  }
 },
 "nbformat": 4,
 "nbformat_minor": 5
}
