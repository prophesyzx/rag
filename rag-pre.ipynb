{
 "cells": [
  {
   "cell_type": "code",
   "execution_count": 1,
   "id": "c7007a95",
   "metadata": {},
   "outputs": [],
   "source": [
    "import getpass\n",
    "import os\n",
    "\n",
    "os.environ[\"LANGSMITH_TRACING\"] = \"true\"\n",
    "os.environ[\"LANGSMITH_API_KEY\"] = getpass.getpass()"
   ]
  },
  {
   "cell_type": "code",
   "execution_count": null,
   "id": "000cdd96",
   "metadata": {},
   "outputs": [],
   "source": [
    "from langchain_deepseek.chat_models import ChatDeepSeek  # 导入 DeepSeek 的聊天模型\n",
    "\n",
    "deepseek_api_key = \"这里当如你自己的 deepseek 密钥\"\n",
    "\n",
    "llm = ChatDeepSeek(model=\"deepseek-chat\", temperature=0, api_key=deepseek_api_key)\n",
    "\n",
    "response = llm.invoke([\"你是一名咨询助理，请为华为写一个简介\"])\n",
    "print(response.content)"
   ]
  }
 ],
 "metadata": {
  "kernelspec": {
   "display_name": "Python 3",
   "language": "python",
   "name": "python3"
  },
  "language_info": {
   "codemirror_mode": {
    "name": "ipython",
    "version": 3
   },
   "file_extension": ".py",
   "mimetype": "text/x-python",
   "name": "python",
   "nbconvert_exporter": "python",
   "pygments_lexer": "ipython3",
   "version": "3.9.21"
  }
 },
 "nbformat": 4,
 "nbformat_minor": 5
}
