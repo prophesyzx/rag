{
 "cells": [
  {
   "cell_type": "code",
   "execution_count": 1,
   "id": "c7007a95",
   "metadata": {},
   "outputs": [],
   "source": [
    "import getpass\n",
    "import os\n",
    "\n",
    "os.environ[\"LANGSMITH_TRACING\"] = \"true\"\n",
    "os.environ[\"LANGSMITH_API_KEY\"] = getpass.getpass()"
   ]
  },
  {
   "cell_type": "markdown",
   "id": "72d3b472",
   "metadata": {},
   "source": [
    "## 1. 加载模型"
   ]
  },
  {
   "cell_type": "markdown",
   "id": "ccd5eff6",
   "metadata": {},
   "source": [
    "### 1. chat模型"
   ]
  },
  {
   "cell_type": "code",
   "execution_count": 1,
   "id": "000cdd96",
   "metadata": {},
   "outputs": [],
   "source": [
    "from langchain_deepseek.chat_models import ChatDeepSeek  # 导入 DeepSeek 的聊天模型\n",
    "\n",
    "deepseek_api_key = \"sk-fffbb9b8a78d436a91a4780356b67a93\"\n",
    "\n",
    "llm = ChatDeepSeek(model=\"deepseek-chat\", api_key = deepseek_api_key)\n",
    "\n",
    "# response = llm.invoke([\"你是一名咨询助理，请为华为写一个简介\"])\n",
    "# print(response.content)"
   ]
  },
  {
   "cell_type": "markdown",
   "id": "87640cc7",
   "metadata": {},
   "source": [
    "### 2. embedding模型"
   ]
  },
  {
   "cell_type": "code",
   "execution_count": 3,
   "id": "962ed56c",
   "metadata": {},
   "outputs": [],
   "source": [
    "from langchain_huggingface import HuggingFaceEmbeddings\n",
    "\n",
    "embeddings = HuggingFaceEmbeddings(model_name=\"sentence-transformers/all-mpnet-base-v2\")"
   ]
  },
  {
   "cell_type": "markdown",
   "id": "17a6327d",
   "metadata": {},
   "source": [
    "### 3. 向量存储库"
   ]
  },
  {
   "cell_type": "code",
   "execution_count": 4,
   "id": "2ce1ecc5",
   "metadata": {},
   "outputs": [],
   "source": [
    "from langchain_core.vectorstores import InMemoryVectorStore\n",
    "\n",
    "vector_store = InMemoryVectorStore(embeddings)"
   ]
  }
 ],
 "metadata": {
  "kernelspec": {
   "display_name": "Python 3",
   "language": "python",
   "name": "python3"
  },
  "language_info": {
   "codemirror_mode": {
    "name": "ipython",
    "version": 3
   },
   "file_extension": ".py",
   "mimetype": "text/x-python",
   "name": "python",
   "nbconvert_exporter": "python",
   "pygments_lexer": "ipython3",
   "version": "3.9.21"
  }
 },
 "nbformat": 4,
 "nbformat_minor": 5
}
