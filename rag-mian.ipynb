{
 "cells": [
  {
   "cell_type": "markdown",
   "id": "ffb5fd49",
   "metadata": {},
   "source": [
    "# 公共文化领域自动问答系统构建"
   ]
  },
  {
   "cell_type": "markdown",
   "id": "96703ef3",
   "metadata": {},
   "source": [
    "## 1. 选择模型"
   ]
  },
  {
   "cell_type": "code",
   "execution_count": null,
   "id": "1aee4864",
   "metadata": {},
   "outputs": [],
   "source": []
  }
 ],
 "metadata": {
  "language_info": {
   "name": "python"
  }
 },
 "nbformat": 4,
 "nbformat_minor": 5
}
