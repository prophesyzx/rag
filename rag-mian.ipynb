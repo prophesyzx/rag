{
 "cells": [
  {
   "cell_type": "markdown",
   "id": "96703ef3",
   "metadata": {},
   "source": [
    "## 1. 选择模型"
   ]
  },
  {
   "cell_type": "code",
   "execution_count": 1,
   "id": "1aee4864",
   "metadata": {},
   "outputs": [],
   "source": [
    "import getpass\n",
    "import os\n",
    "\n",
    "os.environ[\"LANGSMITH_ENDPOINT\"] = \"https://api.smith.langchain.com\"\n",
    "os.environ[\"LANGSMITH_PROJECT_ID\"] = \"project-rag-1.0.0\"\n",
    "os.environ[\"LANGSMITH_PROJECT_NAME\"] = \"rag-sample\"\n",
    "os.environ[\"LANGSMITH_TRACING\"] = \"true\"\n",
    "os.environ[\"LANGSMITH_API_KEY\"] = \"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\"\n",
    "\n",
    "from langchain_deepseek.chat_models import ChatDeepSeek  # 导入 DeepSeek 的聊天模型\n",
    "from langchain_huggingface import HuggingFaceEmbeddings # 导入 HuggingFace 的嵌入模型\n",
    "from langchain.chains import RetrievalQA # 导入检索问答链\n",
    "from langchain.prompts import PromptTemplate # 导入提示模板\n",
    "from langchain.chains import LLMChain # 导入 LLM 链\n",
    "from langchain.memory import ConversationBufferMemory # 导入对话缓冲区内存\n",
    "from langchain_chroma import Chroma # 导入 Chroma 向量存储"
   ]
  },
  {
   "cell_type": "markdown",
   "id": "43c62c92",
   "metadata": {},
   "source": [
    "### 1. 聊天模型"
   ]
  },
  {
   "cell_type": "code",
   "execution_count": null,
   "id": "854b0ab6",
   "metadata": {},
   "outputs": [],
   "source": [
    "# 创建 DeepSeek 聊天模型实例\n",
    "deepseek_api_key = \"sk-fffbb9b8a78d436a91a4780356b67a93\"\n",
    "# 选择deepseek-V3模型\n",
    "# llm = ChatDeepSeek(model=\"deepseek-chat\", api_key = deepseek_api_key, temperature=0, base_url='https://api.deepseek.com')\n",
    "# 选择deepseek-R1模型\n",
    "llm = ChatDeepSeek(model=\"deepseek-reason\", api_key = deepseek_api_key, temperature=0, base_url='https://api.deepseek.com')"
   ]
  },
  {
   "cell_type": "markdown",
   "id": "30f01b02",
   "metadata": {},
   "source": [
    "### 2. 嵌入模型"
   ]
  },
  {
   "cell_type": "code",
   "execution_count": 3,
   "id": "a46246b1",
   "metadata": {},
   "outputs": [
    {
     "name": "stderr",
     "output_type": "stream",
     "text": [
      "C:\\Users\\zx\\AppData\\Local\\Temp\\ipykernel_31236\\2730737997.py:10: LangChainDeprecationWarning: The class `HuggingFaceEmbeddings` was deprecated in LangChain 0.2.2 and will be removed in 1.0. An updated version of the class exists in the :class:`~langchain-huggingface package and should be used instead. To use it run `pip install -U :class:`~langchain-huggingface` and import as `from :class:`~langchain_huggingface import HuggingFaceEmbeddings``.\n",
      "  embeddings_model = HuggingFaceEmbeddings(\n"
     ]
    }
   ],
   "source": [
    "from langchain_community.embeddings import HuggingFaceEmbeddings\n",
    "\n",
    "# 初始化模型（自动下载）\n",
    "model_name = \"BAAI/bge-large-en-v1.5\" # BGE 模型\n",
    "model_kwargs = {'device': 'cuda'} # 使用 GPU 进行推理\n",
    "encode_kwargs = {'normalize_embeddings': True}  # 是否归一化\n",
    "\n",
    "# 创建 HuggingFace 嵌入模型实例\n",
    "# 这里使用了 BAAI 的 BGE 模型，可以根据需要选择其他模型\n",
    "embeddings_model = HuggingFaceEmbeddings(\n",
    "    model_name=model_name,\n",
    "    model_kwargs=model_kwargs,\n",
    "    encode_kwargs=encode_kwargs\n",
    ")"
   ]
  },
  {
   "cell_type": "markdown",
   "id": "4d509ac9",
   "metadata": {},
   "source": [
    "## 2. 构建索引"
   ]
  },
  {
   "cell_type": "markdown",
   "id": "52bc7690",
   "metadata": {},
   "source": [
    "### 加载数据"
   ]
  },
  {
   "cell_type": "markdown",
   "id": "8df2dbba",
   "metadata": {},
   "source": [
    "#### JSONL文件"
   ]
  },
  {
   "cell_type": "code",
   "execution_count": 4,
   "id": "c953af16",
   "metadata": {},
   "outputs": [],
   "source": [
    "from langchain_community.document_loaders import JSONLoader\n",
    "\n",
    "\n",
    "file_path = \"database/json/sample_data.jsonl\" # 数据文件路径\n",
    "\n",
    "# 定义元数据函数\n",
    "def metadata_func(record: dict, metadata: dict) -> dict:\n",
    "    metadata[\"title\"] = record.get(\"Title\")\n",
    "    metadata[\"label\"] = record.get(\"Label\")\n",
    "    metadata[\"viewcount\"] = record.get(\"ViewCount\")\n",
    "    metadata['source'] = file_path\n",
    "\n",
    "    return metadata\n",
    "\n",
    "\n",
    "# 加载数据\n",
    "json_loader = JSONLoader(\n",
    "    file_path=file_path,\n",
    "    jq_schema='.[]',\n",
    "    content_key=\"Content\",\n",
    "    metadata_func=metadata_func,\n",
    "    text_content=True,\n",
    "    json_lines=True,\n",
    "    )\n",
    "\n",
    "json_data = json_loader.load()"
   ]
  },
  {
   "cell_type": "code",
   "execution_count": 5,
   "id": "2ebc49e8",
   "metadata": {},
   "outputs": [],
   "source": [
    "# print(json_data)"
   ]
  },
  {
   "cell_type": "markdown",
   "id": "b456d06c",
   "metadata": {},
   "source": [
    "#### PDF文件"
   ]
  },
  {
   "cell_type": "code",
   "execution_count": 6,
   "id": "873c0b44",
   "metadata": {},
   "outputs": [],
   "source": [
    "from langchain_community.document_loaders import PyPDFDirectoryLoader\n",
    "\n",
    "# 加载 PDF 文件\n",
    "pdf_loader = PyPDFDirectoryLoader(\"database/pdf\")\n",
    "pdf_data = pdf_loader.load()"
   ]
  },
  {
   "cell_type": "code",
   "execution_count": 7,
   "id": "9534c69d",
   "metadata": {},
   "outputs": [],
   "source": [
    "# print(pdf_data)"
   ]
  },
  {
   "cell_type": "code",
   "execution_count": 8,
   "id": "d851ac13",
   "metadata": {},
   "outputs": [],
   "source": [
    "all_data = json_data + pdf_data"
   ]
  },
  {
   "cell_type": "markdown",
   "id": "6703bfd5",
   "metadata": {},
   "source": [
    "## 切分数据"
   ]
  },
  {
   "cell_type": "code",
   "execution_count": null,
   "id": "107b0ab1",
   "metadata": {},
   "outputs": [],
   "source": [
    "from langchain_text_splitters import RecursiveCharacterTextSplitter\n",
    "\n",
    "# 创建文本分割器，设置分割参数\n",
    "text_splitter = RecursiveCharacterTextSplitter(\n",
    "    chunk_size=1000,\n",
    "    chunk_overlap=200,\n",
    "    add_start_index=True,\n",
    "    separators=[\n",
    "        \"\\n\\n\",\n",
    "        \"\\n\",\n",
    "        \" \",\n",
    "        \".\",\n",
    "        \",\",\n",
    "        \"\\u200b\",  # Zero-width space\n",
    "        \"\\uff0c\",  # Fullwidth comma\n",
    "        \"\\u3001\",  # Ideographic comma\n",
    "        \"\\uff0e\",  # Fullwidth full stop\n",
    "        \"\\u3002\",  # Ideographic full stop\n",
    "        \"\",\n",
    "    ],\n",
    ")\n",
    "# 将数据分割成小块\n",
    "data_splits = text_splitter.split_documents(all_data)"
   ]
  },
  {
   "cell_type": "markdown",
   "id": "efd45680",
   "metadata": {},
   "source": [
    "## 存储数据"
   ]
  },
  {
   "cell_type": "code",
   "execution_count": 16,
   "id": "b9e4796a",
   "metadata": {},
   "outputs": [],
   "source": [
    "vector_store = Chroma(\n",
    "    collection_name=\"example_collection\",\n",
    "    embedding_function=embeddings_model,\n",
    "    persist_directory=\"./sample_chroma\",  # Where to save data locally, remove if not necessary\n",
    ").from_documents(documents=data_splits, embedding=embeddings_model)  # 创建 Chroma 向量存储实例\n",
    "\n",
    "# vector_db = vector_store.add_documents(data_splits)  # 将数据添加到向量数据库中"
   ]
  },
  {
   "cell_type": "markdown",
   "id": "221c7f71",
   "metadata": {},
   "source": [
    "## 3. 检索增强"
   ]
  },
  {
   "cell_type": "markdown",
   "id": "1b0ce9f3",
   "metadata": {},
   "source": [
    "### 查询内容优化-MultiQueryRetriever（多角度问题召回器）"
   ]
  },
  {
   "cell_type": "code",
   "execution_count": null,
   "id": "f3533f76",
   "metadata": {},
   "outputs": [],
   "source": [
    "# Set logging for the queries\n",
    "import logging\n",
    "from typing import List\n",
    "from langchain_core.output_parsers import BaseOutputParser\n",
    "from langchain_core.prompts import PromptTemplate\n",
    "from pydantic import BaseModel, Field\n",
    "from langchain.retrievers.multi_query import MultiQueryRetriever\n",
    "from langchain_core.documents import Document\n",
    "from langchain_core.runnables import chain\n",
    "\n",
    "logging.basicConfig()\n",
    "logging.getLogger(\"langchain.retrievers.multi_query\").setLevel(logging.INFO)\n",
    "\n",
    "# Output parser will split the LLM result into a list of queries\n",
    "class LineListOutputParser(BaseOutputParser[List[str]]):\n",
    "    \"\"\"Output parser for a list of lines.\"\"\"\n",
    "    def parse(self, text: str) -> List[str]:\n",
    "        lines = text.strip().split(\"\\n\")\n",
    "        return list(filter(None, lines))  # Remove empty lines\n",
    "\n",
    "\n",
    "output_parser = LineListOutputParser()\n",
    "\n",
    "QUERY_PROMPT = PromptTemplate(\n",
    "    input_variables=[\"question\"],\n",
    "    template=\"\"\"你的任务是生成五个不同的问题版本，以便从向量数据库中检索相关文档。\n",
    "    通过从多个角度重新表述用户的问题，你的目标是帮助用户克服基于距离的相似性搜索的一些局限性。\n",
    "    请将这些替代问题用换行符分隔。\n",
    "    原始问题：{question}\"\"\",\n",
    ")\n",
    "\n",
    "question = \"京剧旦角主要分为哪几个流派？\"\n",
    "\n",
    "def get_multiquery_docs(question: str) -> List[Document]:\n",
    "    \"\"\"Create a retriever that generates multiple queries.\"\"\"\n",
    "    # Chain\n",
    "    llm_chain = QUERY_PROMPT | llm | output_parser\n",
    "    # Other inputs\n",
    "    # Run\n",
    "    retriever = MultiQueryRetriever(\n",
    "        retriever=vector_store.as_retriever(), llm_chain=llm_chain, parser_key=\"lines\"\n",
    "    )  # \"lines\" is the key (attribute name) of the parsed output\n",
    "    # Results\n",
    "    unique_docs = retriever.invoke(question)\n",
    "    return unique_docs"
   ]
  },
  {
   "cell_type": "code",
   "execution_count": null,
   "id": "f10bc8d6",
   "metadata": {},
   "outputs": [
    {
     "name": "stderr",
     "output_type": "stream",
     "text": [
      "INFO:langchain.retrievers.multi_query:Generated queries: ['1. 京剧中的旦角有哪些著名的表演流派？  ', '2. 京剧旦角艺术的主要派别及其特点是什么？  ', '3. 请列举京剧旦角的代表性流派及其创始人。  ', '4. 京剧旦角在表演风格上分为哪几大类别？  ', '5. 不同京剧旦角流派在唱腔和表演上有何区别？']\n"
     ]
    },
    {
     "data": {
      "text/plain": [
       "12"
      ]
     },
     "execution_count": 32,
     "metadata": {},
     "output_type": "execute_result"
    }
   ],
   "source": [
    "question = \"京剧旦角主要分为哪几个流派？\"\n",
    "\n",
    "unique_docs = get_multiquery_docs(question)\n",
    "# Print the unique documents\n",
    "print(f\"Number of unique documents: {len(unique_docs)}\")\n",
    "print(unique_docs[0].page_content)\n",
    "print(unique_docs[-1].page_content)"
   ]
  },
  {
   "cell_type": "code",
   "execution_count": null,
   "id": "ccd7db91",
   "metadata": {},
   "outputs": [],
   "source": []
  },
  {
   "cell_type": "code",
   "execution_count": null,
   "id": "a475551f",
   "metadata": {},
   "outputs": [],
   "source": []
  },
  {
   "cell_type": "code",
   "execution_count": null,
   "id": "49dbca7d",
   "metadata": {},
   "outputs": [],
   "source": []
  },
  {
   "cell_type": "markdown",
   "id": "b42356db",
   "metadata": {},
   "source": [
    "## *4. 训练/评估"
   ]
  },
  {
   "cell_type": "code",
   "execution_count": null,
   "id": "4bb7a85e",
   "metadata": {},
   "outputs": [],
   "source": []
  },
  {
   "cell_type": "markdown",
   "id": "25efab4b",
   "metadata": {},
   "source": [
    "## 5. 可视化界面"
   ]
  },
  {
   "cell_type": "code",
   "execution_count": null,
   "id": "e375781e",
   "metadata": {},
   "outputs": [],
   "source": []
  }
 ],
 "metadata": {
  "kernelspec": {
   "display_name": "Python 3",
   "language": "python",
   "name": "python3"
  },
  "language_info": {
   "codemirror_mode": {
    "name": "ipython",
    "version": 3
   },
   "file_extension": ".py",
   "mimetype": "text/x-python",
   "name": "python",
   "nbconvert_exporter": "python",
   "pygments_lexer": "ipython3",
   "version": "3.9.21"
  }
 },
 "nbformat": 4,
 "nbformat_minor": 5
}
